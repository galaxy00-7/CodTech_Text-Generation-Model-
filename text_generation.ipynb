{
 "cells": [
  {
   "cell_type": "markdown",
   "id": "a2e03b8a",
   "metadata": {},
   "source": [
    "# Text Generation using GPT-2\n",
    "This project demonstrates how to use the pre-trained GPT-2 model to generate coherent paragraphs on specific topics.\n",
    "It is part of Task-4 for the CodTech Internship."
   ]
  },
  {
   "cell_type": "code",
   "execution_count": null,
   "id": "060f4514",
   "metadata": {},
   "outputs": [],
   "source": [
    "import torch\n",
    "from transformers import GPT2Tokenizer, GPT2LMHeadModel"
   ]
  },
  {
   "cell_type": "markdown",
   "id": "5c1f5408",
   "metadata": {},
   "source": [
    "## Step 1: Load the GPT-2 Model and Tokenizer\n",
    "\n",
    "We load the GPT-2 tokenizer and model using Hugging Face's `transformers` library.  \n",
    "The model is then set to evaluation mode since we’re not training it."
   ]
  },
  {
   "cell_type": "code",
   "execution_count": null,
   "id": "3c901cc0",
   "metadata": {},
   "outputs": [],
   "source": [
    "# Load tokenizer and model\n",
    "tokenizer = GPT2Tokenizer.from_pretrained(\"gpt2\")\n",
    "model = GPT2LMHeadModel.from_pretrained(\"gpt2\")\n",
    "\n",
    "# Set model to evaluation mode\n",
    "model.eval()"
   ]
  },
  {
   "cell_type": "markdown",
   "id": "2a5c570a",
   "metadata": {},
   "source": [
    "## Step 2: Define the Text Generation Function\n",
    "\n",
    "This function takes a prompt (topic), encodes it, and then generates a paragraph of text using GPT-2.  \n",
    "We use sampling techniques (`temperature`, `top_p`) to keep the text creative and coherent."
   ]
  },
  {
   "cell_type": "code",
   "execution_count": null,
   "id": "83cd4968",
   "metadata": {},
   "outputs": [],
   "source": [
    "def generate_text(prompt, max_length=150):\n",
    "    # Encode the prompt\n",
    "    input_ids = tokenizer.encode(prompt, return_tensors='pt')\n",
    "\n",
    "    # Generate output\n",
    "    with torch.no_grad():\n",
    "        output = model.generate(\n",
    "            input_ids,\n",
    "            max_length=max_length,\n",
    "            num_return_sequences=1,\n",
    "            temperature=0.7,      # randomness (0.7 is good)\n",
    "            top_p=0.9,            # nucleus sampling\n",
    "            do_sample=True        # enables randomness\n",
    "        )\n",
    "    \n",
    "    # Decode the output\n",
    "    return tokenizer.decode(output[0], skip_special_tokens=True)"
   ]
  },
  {
   "cell_type": "markdown",
   "id": "efcec39c",
   "metadata": {},
   "source": [
    "## Step 3: Generate Text for Specific Topics\n",
    "\n",
    "We pass a list of topics to the model and print the generated paragraphs for each."
   ]
  },
  {
   "cell_type": "code",
   "execution_count": null,
   "id": "a9ce39b7",
   "metadata": {},
   "outputs": [],
   "source": [
    "# List of example topics\n",
    "topics = [\n",
    "    \"Artificial Intelligence in healthcare\",\n",
    "    \"The role of technology in climate change\",\n",
    "    \"Cybersecurity in the digital era\",\n",
    "    \"The future of space exploration\",\n",
    "    \"Machine Learning in education\"\n",
    "]\n",
    "\n",
    "# Generate and print paragraphs\n",
    "for topic in topics:\n",
    "    print(f\"\\n📌 Topic: {topic}\")\n",
    "    print(generate_text(topic + \" \"))\n",
    "    print(\"-\" * 100)"
   ]
  },
  {
   "cell_type": "markdown",
   "id": "f5e77203",
   "metadata": {},
   "source": [
    "## Conclusion\n",
    "GPT-2 is a powerful pre-trained language model capable of generating human-like text. This project showcased how to use GPT-2 to create topic-based paragraphs that are coherent and relevant. With some fine-tuning, this can be extended to specific domains like education, healthcare, or finance."
   ]
  },
  {
   "cell_type": "code",
   "execution_count": null,
   "id": "9177b2a9",
   "metadata": {},
   "outputs": [],
   "source": [
    "print(generate_text(\"India's space program is\"))"
   ]
  }
 ],
 "metadata": {
  "kernelspec": {
   "display_name": ".venv (3.13.5)",
   "language": "python",
   "name": "python3"
  },
  "language_info": {
   "codemirror_mode": {
    "name": "ipython",
    "version": 3
   },
   "file_extension": ".py",
   "mimetype": "text/x-python",
   "name": "python",
   "nbconvert_exporter": "python",
   "pygments_lexer": "ipython3",
   "version": "3.13.5"
  }
 },
 "nbformat": 4,
 "nbformat_minor": 5
}
